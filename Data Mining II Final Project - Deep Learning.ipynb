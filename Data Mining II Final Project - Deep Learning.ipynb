{
 "cells": [
  {
   "cell_type": "code",
   "execution_count": 66,
   "metadata": {},
   "outputs": [],
   "source": [
    "from numpy import *\n",
    "from time import sleep\n",
    "import os\n",
    "import errno\n",
    "import matplotlib.pyplot as plt\n",
    "from sklearn.utils import shuffle\n",
    "\n",
    "from keras.models import Sequential\n",
    "from keras.layers import Dense, Dropout, Flatten\n",
    "from keras.utils import np_utils\n",
    "from keras.layers import Conv2D, MaxPooling2D\n",
    "import pickle\n",
    "from sklearn.tree import DecisionTreeClassifier\n",
    "from sklearn import tree\n",
    "from sklearn import metrics\n",
    "import numpy as np\n",
    "import matplotlib.pyplot as plt\n",
    "from keras.models import Sequential\n",
    "from keras.layers import Dense\n",
    "from keras.layers import Dropout\n",
    "from keras.layers import Flatten\n",
    "from keras.constraints import maxnorm\n",
    "from keras.optimizers import SGD\n",
    "from keras.layers import Activation\n",
    "from keras.layers.convolutional import Conv2D, MaxPooling2D, ZeroPadding2D\n",
    "from keras.layers.normalization import BatchNormalization\n",
    "from keras.initializers import glorot_normal\n",
    "from keras.utils import np_utils\n",
    "#from keras_sequential_ascii import sequential_model_to_ascii_printout\n",
    "from sklearn.model_selection import train_test_split"
   ]
  },
  {
   "cell_type": "code",
   "execution_count": 67,
   "metadata": {},
   "outputs": [],
   "source": [
    "import tensorflow as tf"
   ]
  },
  {
   "cell_type": "code",
   "execution_count": 68,
   "metadata": {},
   "outputs": [
    {
     "name": "stdout",
     "output_type": "stream",
     "text": [
      "/Users/sagarsahoo/Downloads\n"
     ]
    }
   ],
   "source": [
    "cd /Users/sagarsahoo/Downloads/"
   ]
  },
  {
   "cell_type": "code",
   "execution_count": 69,
   "metadata": {},
   "outputs": [],
   "source": [
    "def silent_remove(filename):\n",
    "    try:\n",
    "        os.remove(filename)\n",
    "    except OSError as e:  # this would be \"except OSError, e:\" before Python 2.6\n",
    "        if e.errno != errno.ENOENT:  # errno.ENOENT = no such file or directory\n",
    "            raise  # re-raise exception if a different error occurred\n",
    "\n",
    "\n",
    "\n",
    "def unpickle(file):\n",
    "    with open(file, 'rb') as fo:\n",
    "        d = pickle.load(fo, encoding='bytes')\n",
    "    return d\n",
    "\n",
    "\n",
    "def read_data(folder):\n",
    "    x_data_temp = []\n",
    "    y_data_temp = []\n",
    "    x_test_data_temp = []\n",
    "    y_test_data_temp = []\n",
    "    # We don't use numpy's vstack here as that would be wasteful, because every time you do a vstack, numpy would end\n",
    "    # up copying the whole array to a new location. Hence we use a little trick to first store the data in a list and\n",
    "    # then convert it to an numpy array\n",
    "\n",
    "    for file in os.listdir(folder):\n",
    "        if file.endswith(\".meta\") or file.endswith(\".html\"):\n",
    "            print(\"Ignoring html and meta files\")\n",
    "        elif \"test_batch\" in file:\n",
    "            # test data file detected. we are gonna load it separately\n",
    "            test_data_temp = unpickle(folder + \"/\" + file)\n",
    "            x_test_data_temp.append(test_data_temp[b'data'])\n",
    "            y_test_data_temp.append(test_data_temp[b'labels'])\n",
    "        else:\n",
    "            temp_data = unpickle(folder + \"/\" + file)\n",
    "            x_data_temp.append(temp_data[b'data'])\n",
    "            y_data_temp.append(temp_data[b'labels'])\n",
    "    x_data = array(x_data_temp)\n",
    "    y_data = array(y_data_temp)\n",
    "    x_test_data = array(x_test_data_temp)\n",
    "    y_test_data = array(y_test_data_temp)\n",
    "    return [x_data, y_data, x_test_data, y_test_data]"
   ]
  },
  {
   "cell_type": "code",
   "execution_count": 70,
   "metadata": {},
   "outputs": [
    {
     "name": "stdout",
     "output_type": "stream",
     "text": [
      "Ignoring html and meta files\n",
      "Ignoring html and meta files\n"
     ]
    }
   ],
   "source": [
    "X_train_temp, y_train_temp, X_test_temp, y_test_temp = read_data(\"cifar-10-batches-py\")"
   ]
  },
  {
   "cell_type": "code",
   "execution_count": 71,
   "metadata": {},
   "outputs": [
    {
     "name": "stdout",
     "output_type": "stream",
     "text": [
      "(5, 10000, 3072) 3 <class 'numpy.ndarray'>\n",
      "(5, 10000) 2 <class 'numpy.ndarray'>\n"
     ]
    }
   ],
   "source": [
    "print(X_train_temp.shape, X_train_temp.ndim, type(X_train_temp))\n",
    "print(y_train_temp.shape, y_train_temp.ndim, type(y_train_temp))"
   ]
  },
  {
   "cell_type": "code",
   "execution_count": 72,
   "metadata": {},
   "outputs": [
    {
     "name": "stdout",
     "output_type": "stream",
     "text": [
      "(50000, 3072) 2 <class 'numpy.ndarray'>\n",
      "(50000,) 1 <class 'numpy.ndarray'>\n",
      "(10000, 3072) 2 <class 'numpy.ndarray'>\n",
      "(10000,) 1 <class 'numpy.ndarray'>\n"
     ]
    }
   ],
   "source": [
    "X_train_temp = X_train_temp.reshape(X_train_temp.shape[0] * X_train_temp.shape[1], X_train_temp.shape[2])\n",
    "y_train_temp = y_train_temp.reshape(y_train_temp.shape[0] * y_train_temp.shape[1])\n",
    "\n",
    "# Similarly for X_test_temp and y_test_data\n",
    "\n",
    "X_test_temp = X_test_temp.reshape(X_test_temp.shape[0] * X_test_temp.shape[1], X_test_temp.shape[2])\n",
    "y_test_temp = y_test_temp.reshape(y_test_temp.shape[0] * y_test_temp.shape[1])\n",
    "\n",
    "print(X_train_temp.shape, X_train_temp.ndim, type(X_train_temp))\n",
    "print(y_train_temp.shape, y_train_temp.ndim, type(y_train_temp))\n",
    "\n",
    "print(X_test_temp.shape, X_test_temp.ndim, type(X_test_temp))\n",
    "print(y_test_temp.shape, y_test_temp.ndim, type(y_test_temp))\n"
   ]
  },
  {
   "cell_type": "code",
   "execution_count": 73,
   "metadata": {},
   "outputs": [],
   "source": [
    "X_train, y_train = shuffle(X_train_temp, y_train_temp, random_state=4)\n",
    "X_test, y_test = shuffle(X_test_temp, y_test_temp, random_state=4)"
   ]
  },
  {
   "cell_type": "code",
   "execution_count": 74,
   "metadata": {},
   "outputs": [],
   "source": [
    "# Splitting X and y in training and val data\n",
    "X_train, X_val, y_train, y_val = train_test_split(X_train, y_train, test_size=0.2, random_state=13433382)"
   ]
  },
  {
   "cell_type": "markdown",
   "metadata": {},
   "source": [
    "# Neural Networks"
   ]
  },
  {
   "cell_type": "code",
   "execution_count": 75,
   "metadata": {},
   "outputs": [
    {
     "name": "stdout",
     "output_type": "stream",
     "text": [
      "(40000, 3, 32, 32) (40000, 10)\n",
      "(10000, 3, 32, 32) (10000, 10)\n",
      "(10000, 3, 32, 32) (10000, 10)\n"
     ]
    }
   ],
   "source": [
    "# Keras Parameters\n",
    "batch_size = 32\n",
    "nb_classes = 10\n",
    "nb_epoch = 20\n",
    "img_rows, img_col = 32, 32\n",
    "img_channels = 3\n",
    "nb_filters = 32\n",
    "nb_pool = 2\n",
    "nb_conv = 3\n",
    "\n",
    "# Now that our data has been shuffled and spitted,  lets reshape it and get it ready to be fed into our CCN model\n",
    "\n",
    "X_train = X_train.reshape(X_train.shape[0], 3, 32, 32)\n",
    "y_train = np_utils.to_categorical(y_train, nb_classes)\n",
    "\n",
    "X_val = X_val.reshape(X_val.shape[0], 3, 32, 32)\n",
    "y_val = np_utils.to_categorical(y_val, nb_classes)\n",
    "\n",
    "X_test = X_test.reshape(X_test.shape[0], 3, 32, 32)\n",
    "y_test = np_utils.to_categorical(y_test, nb_classes)\n",
    "\n",
    "# Finally print shape of this data :\n",
    "\n",
    "print(X_train.shape, y_train.shape)\n",
    "print(X_val.shape, y_val.shape)\n",
    "print(X_test.shape, y_test.shape)\n",
    "\n",
    "# Regularize the data\n",
    "X_train = X_train.astype('float32')\n",
    "X_val = X_val.astype('float32')\n",
    "X_test = X_test.astype('float32')\n",
    "\n",
    "X_train /= 255\n",
    "X_val /= 255\n",
    "X_test /= 255"
   ]
  },
  {
   "cell_type": "code",
   "execution_count": 76,
   "metadata": {},
   "outputs": [],
   "source": [
    "import keras.backend.tensorflow_backend as tfback"
   ]
  },
  {
   "cell_type": "code",
   "execution_count": 77,
   "metadata": {},
   "outputs": [],
   "source": [
    "def _get_available_gpus():  \n",
    "\n",
    "    if tfback._LOCAL_DEVICES is None:  \n",
    "        devices = tf.config.list_logical_devices()  \n",
    "        tfback._LOCAL_DEVICES = [x.name for x in devices]  \n",
    "    return [x for x in tfback._LOCAL_DEVICES if 'device:gpu' in x.lower()]\n",
    "\n",
    "\n",
    "tfback._get_available_gpus = _get_available_gpus"
   ]
  },
  {
   "cell_type": "code",
   "execution_count": 78,
   "metadata": {},
   "outputs": [
    {
     "name": "stderr",
     "output_type": "stream",
     "text": [
      "/opt/anaconda3/lib/python3.7/site-packages/ipykernel_launcher.py:12: UserWarning: Update your `MaxPooling2D` call to the Keras 2 API: `MaxPooling2D(pool_size=(2, 2), data_format=\"channels_last\")`\n",
      "  if sys.path[0] == '':\n",
      "/opt/anaconda3/lib/python3.7/site-packages/ipykernel_launcher.py:16: UserWarning: Update your `MaxPooling2D` call to the Keras 2 API: `MaxPooling2D(pool_size=(2, 2), data_format=\"channels_last\")`\n",
      "  app.launch_new_instance()\n"
     ]
    },
    {
     "name": "stdout",
     "output_type": "stream",
     "text": [
      "Train on 40000 samples, validate on 10000 samples\n",
      "Epoch 1/20\n",
      "40000/40000 [==============================] - 114s 3ms/step - loss: 1.6619 - accuracy: 0.3978 - val_loss: 1.3637 - val_accuracy: 0.5122\n",
      "Epoch 2/20\n",
      "40000/40000 [==============================] - 152s 4ms/step - loss: 1.3469 - accuracy: 0.5204 - val_loss: 1.2103 - val_accuracy: 0.5749\n",
      "Epoch 3/20\n",
      "40000/40000 [==============================] - 111s 3ms/step - loss: 1.2322 - accuracy: 0.5617 - val_loss: 1.1269 - val_accuracy: 0.5980\n",
      "Epoch 4/20\n",
      "40000/40000 [==============================] - 111s 3ms/step - loss: 1.1566 - accuracy: 0.5874 - val_loss: 1.0682 - val_accuracy: 0.6237\n",
      "Epoch 5/20\n",
      "40000/40000 [==============================] - 115s 3ms/step - loss: 1.1053 - accuracy: 0.6072 - val_loss: 1.0218 - val_accuracy: 0.6417\n",
      "Epoch 6/20\n",
      "40000/40000 [==============================] - 113s 3ms/step - loss: 1.0628 - accuracy: 0.6241 - val_loss: 0.9943 - val_accuracy: 0.6450\n",
      "Epoch 7/20\n",
      "40000/40000 [==============================] - 117s 3ms/step - loss: 1.0188 - accuracy: 0.6369 - val_loss: 0.9982 - val_accuracy: 0.6505\n",
      "Epoch 8/20\n",
      "40000/40000 [==============================] - 120s 3ms/step - loss: 1.0002 - accuracy: 0.6431 - val_loss: 0.9756 - val_accuracy: 0.6592\n",
      "Epoch 9/20\n",
      "40000/40000 [==============================] - 117s 3ms/step - loss: 0.9669 - accuracy: 0.6585 - val_loss: 0.9588 - val_accuracy: 0.6586\n",
      "Epoch 10/20\n",
      "40000/40000 [==============================] - 110s 3ms/step - loss: 0.9451 - accuracy: 0.6647 - val_loss: 0.9340 - val_accuracy: 0.6707\n",
      "Epoch 11/20\n",
      "40000/40000 [==============================] - 110s 3ms/step - loss: 0.9286 - accuracy: 0.6697 - val_loss: 0.9531 - val_accuracy: 0.6621\n",
      "Epoch 12/20\n",
      "40000/40000 [==============================] - 112s 3ms/step - loss: 0.9071 - accuracy: 0.6774 - val_loss: 0.9324 - val_accuracy: 0.6736\n",
      "Epoch 13/20\n",
      "40000/40000 [==============================] - 112s 3ms/step - loss: 0.8965 - accuracy: 0.6824 - val_loss: 0.9436 - val_accuracy: 0.6671\n",
      "Epoch 14/20\n",
      "40000/40000 [==============================] - 112s 3ms/step - loss: 0.8832 - accuracy: 0.6858 - val_loss: 0.9204 - val_accuracy: 0.6782\n",
      "Epoch 15/20\n",
      "40000/40000 [==============================] - 112s 3ms/step - loss: 0.8645 - accuracy: 0.6910 - val_loss: 0.9151 - val_accuracy: 0.6795\n",
      "Epoch 16/20\n",
      "40000/40000 [==============================] - 115s 3ms/step - loss: 0.8556 - accuracy: 0.6984 - val_loss: 0.9266 - val_accuracy: 0.6792\n",
      "Epoch 17/20\n",
      "40000/40000 [==============================] - 121s 3ms/step - loss: 0.8367 - accuracy: 0.7033 - val_loss: 0.8962 - val_accuracy: 0.6935\n",
      "Epoch 18/20\n",
      "40000/40000 [==============================] - 127s 3ms/step - loss: 0.8338 - accuracy: 0.7031 - val_loss: 0.9072 - val_accuracy: 0.6813\n",
      "Epoch 19/20\n",
      "40000/40000 [==============================] - 124s 3ms/step - loss: 0.8210 - accuracy: 0.7068 - val_loss: 0.8917 - val_accuracy: 0.6924\n",
      "Epoch 20/20\n",
      "40000/40000 [==============================] - 120s 3ms/step - loss: 0.8144 - accuracy: 0.7086 - val_loss: 0.8893 - val_accuracy: 0.6894\n"
     ]
    }
   ],
   "source": [
    "\n",
    "# Starting with Keras now\n",
    "\n",
    "model = Sequential()\n",
    "\n",
    "model.add(Conv2D(nb_filters, (nb_conv, nb_conv),\n",
    "                 padding='valid',\n",
    "                 activation='relu',\n",
    "                 input_shape=(img_channels, img_rows, img_col),\n",
    "                 data_format='channels_first',))\n",
    "\n",
    "model.add(Conv2D(nb_filters, (nb_conv, nb_conv), activation='relu'))\n",
    "model.add(MaxPooling2D(pool_size=(nb_pool, nb_pool) ,dim_ordering='tf'))\n",
    "model.add(Dropout(0.2))\n",
    "\n",
    "model.add(Conv2D(nb_filters, (nb_conv, nb_conv), activation='relu'))\n",
    "model.add(MaxPooling2D(pool_size=(nb_pool, nb_pool),dim_ordering='tf'))\n",
    "model.add(Dropout(0.2))\n",
    "\n",
    "model.add(Flatten())\n",
    "model.add(Dense(128, activation='relu'))\n",
    "model.add(Dropout(0.2))\n",
    "model.add(Dense(nb_classes, activation='softmax'))\n",
    "\n",
    "model.compile(loss='categorical_crossentropy',\n",
    "              optimizer='adam',\n",
    "              metrics=['accuracy'])\n",
    "\n",
    "history = model.fit(X_train, y_train, batch_size=batch_size, epochs=nb_epoch,\n",
    "                    verbose=1, validation_data=(X_val, y_val))"
   ]
  },
  {
   "cell_type": "code",
   "execution_count": 79,
   "metadata": {},
   "outputs": [
    {
     "data": {
      "text/plain": [
       "<matplotlib.legend.Legend at 0x1a40bbb210>"
      ]
     },
     "execution_count": 79,
     "metadata": {},
     "output_type": "execute_result"
    },
    {
     "data": {
      "image/png": "[encoded data removed]",
      "text/plain": [
       "<Figure size 1080x360 with 2 Axes>"
      ]
     },
     "metadata": {},
     "output_type": "display_data"
    }
   ],
   "source": [
    "f = plt.figure(figsize=(15,5))\n",
    "\n",
    "\n",
    "ax = f.add_subplot(121)\n",
    "ax2 = f.add_subplot(122)\n",
    "\n",
    "# summarize history for accuracy\n",
    "ax.plot(history.history['accuracy'])\n",
    "ax.plot(history.history['val_accuracy'])\n",
    "ax.set_title('model accuracy')\n",
    "ax.set_ylabel('accuracy')\n",
    "ax.set_xlabel('epoch')\n",
    "ax.legend(['train', 'val'], loc='upper left')\n",
    "# summarize history for loss\n",
    "ax2.plot(history.history['loss'])\n",
    "ax2.plot(history.history['val_loss'])\n",
    "ax2.set_title('model loss')\n",
    "ax2.set_ylabel('loss')\n",
    "ax2.set_xlabel('epoch')\n",
    "ax2.legend(['train', 'val'], loc='upper left')\n"
   ]
  },
  {
   "cell_type": "code",
   "execution_count": 80,
   "metadata": {},
   "outputs": [
    {
     "name": "stdout",
     "output_type": "stream",
     "text": [
      "Test Score : 0.8776295792579651\n",
      "Test accuracy:  0.696399986743927\n"
     ]
    }
   ],
   "source": [
    "\n",
    "# Test this trained model on our test data\n",
    "score = model.evaluate(X_test, y_test, verbose=0)\n",
    "print(\"Test Score :\", score[0])\n",
    "print(\"Test accuracy: \", score[1])\n",
    "#print(model.predict_classes(X_test[1:50]))\n",
    "#print(y_test[1:50])"
   ]
  },
  {
   "cell_type": "code",
   "execution_count": 81,
   "metadata": {},
   "outputs": [
    {
     "name": "stdout",
     "output_type": "stream",
     "text": [
      "First deleting old models if they exists !!\n",
      "Saved model to disk\n"
     ]
    }
   ],
   "source": [
    "print(\"First deleting old models if they exists !!\")\n",
    "silent_remove(\"model.json\")\n",
    "silent_remove(\"model.h5\")\n",
    "silent_remove(\"whole_model.h5\")\n",
    "\n",
    "sleep(2)\n",
    "\n",
    "model_json = model.to_json()\n",
    "with open(\"model.json\", \"w\") as json_file:\n",
    "    json_file.write(model_json)\n",
    "# serialize weights to HDF5\n",
    "model.save_weights(\"model.h5\")\n",
    "model.save(\"whole_model.h5\")\n",
    "print(\"Saved model to disk\")"
   ]
  },
  {
   "cell_type": "markdown",
   "metadata": {},
   "source": [
    "<b>Prediction on the Test Set"
   ]
  },
  {
   "cell_type": "code",
   "execution_count": 82,
   "metadata": {},
   "outputs": [
    {
     "data": {
      "image/png": "[encoded data removed]",
      "text/plain": [
       "<Figure size 720x504 with 2 Axes>"
      ]
     },
     "metadata": {},
     "output_type": "display_data"
    }
   ],
   "source": [
    "\n",
    "from sklearn.metrics import classification_report, confusion_matrix\n",
    "Y_pred = model.predict(X_test, verbose=2)\n",
    "y_pred = np.argmax(Y_pred, axis=1)\n",
    "\n",
    "#for ix in range(10):\n",
    "#    print(ix, confusion_matrix(np.argmax(y_test,axis=1),y_pred)[ix].sum())\n",
    "cm = confusion_matrix(np.argmax(y_test,axis=1),y_pred)\n",
    "#print(cm)\n",
    "\n",
    "# Visualizing of confusion matrix\n",
    "import seaborn as sn\n",
    "import pandas  as pd\n",
    "\n",
    "\n",
    "df_cm = pd.DataFrame(cm, range(10),range(10))\n",
    "plt.figure(figsize = (10,7))\n",
    "sn.set(font_scale=1.4)#for label size\n",
    "sn.heatmap(df_cm, annot=True,annot_kws={\"size\": 12},fmt=\"d\")# font size\n",
    "plt.show()"
   ]
  },
  {
   "cell_type": "markdown",
   "metadata": {},
   "source": [
    "# VGG-16"
   ]
  },
  {
   "cell_type": "code",
   "execution_count": 52,
   "metadata": {},
   "outputs": [],
   "source": [
    "import multiprocessing as mp"
   ]
  },
  {
   "cell_type": "code",
   "execution_count": 64,
   "metadata": {},
   "outputs": [
    {
     "name": "stdout",
     "output_type": "stream",
     "text": [
      "4\n",
      "x_train shape: (50000, 32, 32, 3)\n",
      "50000 train samples\n",
      "10000 test samples\n"
     ]
    }
   ],
   "source": [
    "core_num = mp.cpu_count()\n",
    "\n",
    "print(core_num)\n",
    "\n",
    "config = tf.compat.v1.ConfigProto(\n",
    "    inter_op_parallelism_threads=core_num,\n",
    "    intra_op_parallelism_threads=core_num)\n",
    "\n",
    "#sess = tf.Session(config=config)\n",
    "\n",
    "# Loading the CIFAR-10 dataset\n",
    "\n",
    "from keras.datasets import cifar10\n",
    "\n",
    "# Declare variables\n",
    "\n",
    "BATCH_NORM = False\n",
    "\n",
    "batch_size = 64\n",
    "num_classes = 10\n",
    "epochs = 2\n",
    "data_augmentation = True\n",
    "\n",
    "(x_train, y_train), (x_test, y_test) = cifar10.load_data() # x_train - training data(images), y_train - labels(digits)\n",
    "print('x_train shape:', x_train.shape)\n",
    "print(x_train.shape[0], 'train samples')\n",
    "print(x_test.shape[0], 'test samples')\n",
    "\n",
    "class_names = ['airplane','automobile','bird','cat','deer',\n",
    "               'dog','frog','horse','ship','truck']\n",
    "\n",
    "\n",
    "\n",
    "# Convert and pre-processing\n",
    "\n",
    "y_train = np_utils.to_categorical(y_train, num_classes)\n",
    "y_test = np_utils.to_categorical(y_test, num_classes)\n",
    "x_train = x_train.astype('float32')\n",
    "x_test = x_test.astype('float32')\n",
    "x_train  /= 255\n",
    "x_test /= 255\n",
    "\n",
    "\n",
    "X_train, X_val, y_train, y_val = train_test_split(x_train, y_train, test_size=0.2, random_state=13433382)"
   ]
  },
  {
   "cell_type": "code",
   "execution_count": 65,
   "metadata": {},
   "outputs": [
    {
     "name": "stdout",
     "output_type": "stream",
     "text": [
      "Model: \"sequential_10\"\n",
      "_________________________________________________________________\n",
      "Layer (type)                 Output Shape              Param #   \n",
      "=================================================================\n",
      "block1_conv1 (Conv2D)        (None, 32, 32, 64)        1792      \n",
      "_________________________________________________________________\n",
      "activation_39 (Activation)   (None, 32, 32, 64)        0         \n",
      "_________________________________________________________________\n",
      "block1_conv2 (Conv2D)        (None, 32, 32, 64)        36928     \n",
      "_________________________________________________________________\n",
      "activation_40 (Activation)   (None, 32, 32, 64)        0         \n",
      "_________________________________________________________________\n",
      "block1_pool (MaxPooling2D)   (None, 16, 16, 64)        0         \n",
      "_________________________________________________________________\n",
      "block2_conv1 (Conv2D)        (None, 16, 16, 128)       73856     \n",
      "_________________________________________________________________\n",
      "activation_41 (Activation)   (None, 16, 16, 128)       0         \n",
      "_________________________________________________________________\n",
      "block2_conv2 (Conv2D)        (None, 16, 16, 128)       147584    \n",
      "_________________________________________________________________\n",
      "activation_42 (Activation)   (None, 16, 16, 128)       0         \n",
      "_________________________________________________________________\n",
      "block2_pool (MaxPooling2D)   (None, 8, 8, 128)         0         \n",
      "_________________________________________________________________\n",
      "block3_conv1 (Conv2D)        (None, 8, 8, 256)         295168    \n",
      "_________________________________________________________________\n",
      "activation_43 (Activation)   (None, 8, 8, 256)         0         \n",
      "_________________________________________________________________\n",
      "block3_conv2 (Conv2D)        (None, 8, 8, 256)         590080    \n",
      "_________________________________________________________________\n",
      "activation_44 (Activation)   (None, 8, 8, 256)         0         \n",
      "_________________________________________________________________\n",
      "block3_conv3 (Conv2D)        (None, 8, 8, 256)         590080    \n",
      "_________________________________________________________________\n",
      "activation_45 (Activation)   (None, 8, 8, 256)         0         \n",
      "_________________________________________________________________\n",
      "block3_conv4 (Conv2D)        (None, 8, 8, 256)         590080    \n",
      "_________________________________________________________________\n",
      "activation_46 (Activation)   (None, 8, 8, 256)         0         \n",
      "_________________________________________________________________\n",
      "block3_pool (MaxPooling2D)   (None, 4, 4, 256)         0         \n",
      "_________________________________________________________________\n",
      "block4_conv1 (Conv2D)        (None, 4, 4, 512)         1180160   \n",
      "_________________________________________________________________\n",
      "activation_47 (Activation)   (None, 4, 4, 512)         0         \n",
      "_________________________________________________________________\n",
      "block4_conv2 (Conv2D)        (None, 4, 4, 512)         2359808   \n",
      "_________________________________________________________________\n",
      "activation_48 (Activation)   (None, 4, 4, 512)         0         \n",
      "_________________________________________________________________\n",
      "block4_conv3 (Conv2D)        (None, 4, 4, 512)         2359808   \n",
      "_________________________________________________________________\n",
      "activation_49 (Activation)   (None, 4, 4, 512)         0         \n",
      "_________________________________________________________________\n",
      "block4_conv4 (Conv2D)        (None, 4, 4, 512)         2359808   \n",
      "_________________________________________________________________\n",
      "activation_50 (Activation)   (None, 4, 4, 512)         0         \n",
      "_________________________________________________________________\n",
      "block4_pool (MaxPooling2D)   (None, 2, 2, 512)         0         \n",
      "_________________________________________________________________\n",
      "block5_conv1 (Conv2D)        (None, 2, 2, 512)         2359808   \n",
      "_________________________________________________________________\n",
      "activation_51 (Activation)   (None, 2, 2, 512)         0         \n",
      "_________________________________________________________________\n",
      "block5_conv2 (Conv2D)        (None, 2, 2, 512)         2359808   \n",
      "_________________________________________________________________\n",
      "activation_52 (Activation)   (None, 2, 2, 512)         0         \n",
      "_________________________________________________________________\n",
      "block5_conv3 (Conv2D)        (None, 2, 2, 512)         2359808   \n",
      "_________________________________________________________________\n",
      "activation_53 (Activation)   (None, 2, 2, 512)         0         \n",
      "_________________________________________________________________\n",
      "block5_conv4 (Conv2D)        (None, 2, 2, 512)         2359808   \n",
      "_________________________________________________________________\n",
      "activation_54 (Activation)   (None, 2, 2, 512)         0         \n",
      "_________________________________________________________________\n",
      "flatten_5 (Flatten)          (None, 2048)              0         \n",
      "_________________________________________________________________\n",
      "dense_9 (Dense)              (None, 4096)              8392704   \n",
      "_________________________________________________________________\n",
      "activation_55 (Activation)   (None, 4096)              0         \n",
      "_________________________________________________________________\n",
      "dropout_11 (Dropout)         (None, 4096)              0         \n",
      "_________________________________________________________________\n",
      "fc2 (Dense)                  (None, 4096)              16781312  \n",
      "_________________________________________________________________\n",
      "activation_56 (Activation)   (None, 4096)              0         \n",
      "_________________________________________________________________\n",
      "dropout_12 (Dropout)         (None, 4096)              0         \n",
      "_________________________________________________________________\n",
      "dense_10 (Dense)             (None, 10)                40970     \n",
      "_________________________________________________________________\n",
      "activation_57 (Activation)   (None, 10)                0         \n",
      "=================================================================\n",
      "Total params: 45,239,370\n",
      "Trainable params: 45,239,370\n",
      "Non-trainable params: 0\n",
      "_________________________________________________________________\n"
     ]
    }
   ],
   "source": [
    "\n",
    "# Define Model\n",
    "def vgg_base_model():\n",
    "    model = Sequential()\n",
    "\n",
    "    model.add(Conv2D(64, (3, 3), padding='same', input_shape=x_train.shape[1:], name='block1_conv1'))\n",
    "    model.add(BatchNormalization()) if BATCH_NORM else None\n",
    "    model.add(Activation('relu'))\n",
    "\n",
    "    model.add(Conv2D(64, (3, 3), padding='same', name='block1_conv2'))\n",
    "    model.add(BatchNormalization()) if BATCH_NORM else None\n",
    "    model.add(Activation('relu'))\n",
    "\n",
    "    model.add(MaxPooling2D((2, 2), strides=(2, 2), name='block1_pool'))\n",
    "\n",
    "    model.add(Conv2D(128, (3, 3), padding='same', name='block2_conv1'))\n",
    "    model.add(BatchNormalization()) if BATCH_NORM else None\n",
    "    model.add(Activation('relu'))\n",
    "\n",
    "    model.add(Conv2D(128, (3, 3), padding='same', name='block2_conv2'))\n",
    "    model.add(BatchNormalization()) if BATCH_NORM else None\n",
    "    model.add(Activation('relu'))\n",
    "    model.add(MaxPooling2D((2, 2), strides=(2, 2), name='block2_pool'))\n",
    "\n",
    "    model.add(Conv2D(256, (3, 3), padding='same', name='block3_conv1'))\n",
    "    model.add(BatchNormalization()) if BATCH_NORM else None\n",
    "    model.add(Activation('relu'))\n",
    "\n",
    "    model.add(Conv2D(256, (3, 3), padding='same', name='block3_conv2'))\n",
    "    model.add(BatchNormalization()) if BATCH_NORM else None\n",
    "    model.add(Activation('relu'))\n",
    "\n",
    "    model.add(Conv2D(256, (3, 3), padding='same', name='block3_conv3'))\n",
    "    model.add(BatchNormalization()) if BATCH_NORM else None\n",
    "    model.add(Activation('relu'))\n",
    "\n",
    "    model.add(Conv2D(256, (3, 3), padding='same', name='block3_conv4'))\n",
    "    model.add(BatchNormalization()) if BATCH_NORM else None\n",
    "    model.add(Activation('relu'))\n",
    "\n",
    "    model.add(MaxPooling2D((2, 2), strides=(2, 2), name='block3_pool'))\n",
    "\n",
    "    model.add(Conv2D(512, (3, 3), padding='same', name='block4_conv1'))\n",
    "    model.add(BatchNormalization()) if BATCH_NORM else None\n",
    "    model.add(Activation('relu'))\n",
    "\n",
    "    model.add(Conv2D(512, (3, 3), padding='same', name='block4_conv2'))\n",
    "    model.add(BatchNormalization()) if BATCH_NORM else None\n",
    "    model.add(Activation('relu'))\n",
    "\n",
    "    model.add(Conv2D(512, (3, 3), padding='same', name='block4_conv3'))\n",
    "    model.add(BatchNormalization()) if BATCH_NORM else None\n",
    "    model.add(Activation('relu'))\n",
    "\n",
    "    model.add(Conv2D(512, (3, 3), padding='same', name='block4_conv4'))\n",
    "    model.add(BatchNormalization()) if BATCH_NORM else None\n",
    "    model.add(Activation('relu'))\n",
    "    model.add(MaxPooling2D((2, 2), strides=(2, 2), name='block4_pool'))\n",
    "\n",
    "    model.add(Conv2D(512, (3, 3), padding='same', name='block5_conv1'))\n",
    "    model.add(BatchNormalization()) if BATCH_NORM else None\n",
    "    model.add(Activation('relu'))\n",
    "\n",
    "    model.add(Conv2D(512, (3, 3), padding='same', name='block5_conv2'))\n",
    "    model.add(BatchNormalization()) if BATCH_NORM else None\n",
    "    model.add(Activation('relu'))\n",
    "\n",
    "    model.add(Conv2D(512, (3, 3), padding='same', name='block5_conv3'))\n",
    "    model.add(BatchNormalization()) if BATCH_NORM else None\n",
    "    model.add(Activation('relu'))\n",
    "\n",
    "    model.add(Conv2D(512, (3, 3), padding='same', name='block5_conv4'))\n",
    "    model.add(BatchNormalization()) if BATCH_NORM else None\n",
    "    model.add(Activation('relu'))\n",
    "\n",
    "    model.add(Flatten())\n",
    "\n",
    "    model.add(Dense(4096))\n",
    "    model.add(BatchNormalization()) if BATCH_NORM else None\n",
    "    model.add(Activation('relu'))\n",
    "    model.add(Dropout(0.5))\n",
    "\n",
    "    model.add(Dense(4096, name='fc2'))\n",
    "    model.add(BatchNormalization()) if BATCH_NORM else None\n",
    "    model.add(Activation('relu'))\n",
    "    model.add(Dropout(0.5))\n",
    "\n",
    "    model.add(Dense(num_classes))\n",
    "    model.add(BatchNormalization()) if BATCH_NORM else None\n",
    "    model.add(Activation('softmax'))\n",
    "\n",
    "    sgd = SGD(lr=0.0005, decay=0, nesterov=True)\n",
    "\n",
    "    model.compile(loss='categorical_crossentropy', optimizer=sgd, metrics=['accuracy'])\n",
    "    return model\n",
    "\n",
    "cnn_n = vgg_base_model()\n",
    "cnn_n.summary()"
   ]
  },
  {
   "cell_type": "code",
   "execution_count": 63,
   "metadata": {},
   "outputs": [
    {
     "name": "stdout",
     "output_type": "stream",
     "text": [
      "Train on 50000 samples, validate on 10000 samples\n",
      "Epoch 1/2\n",
      "20544/50000 [===========>..................] - ETA: 48:21 - loss: 2.3026 - accuracy: 0.1028"
     ]
    },
    {
     "ename": "KeyboardInterrupt",
     "evalue": "",
     "output_type": "error",
     "traceback": [
      "\u001b[0;31m---------------------------------------------------------------------------\u001b[0m",
      "\u001b[0;31mKeyboardInterrupt\u001b[0m                         Traceback (most recent call last)",
      "\u001b[0;32m<ipython-input-63-55314331dca1>\u001b[0m in \u001b[0;36m<module>\u001b[0;34m\u001b[0m\n\u001b[1;32m      1\u001b[0m cnn = cnn_n.fit(x_train, y_train, batch_size=batch_size, \n\u001b[1;32m      2\u001b[0m                 \u001b[0mepochs\u001b[0m\u001b[0;34m=\u001b[0m\u001b[0mepochs\u001b[0m\u001b[0;34m,\u001b[0m\u001b[0;34m\u001b[0m\u001b[0;34m\u001b[0m\u001b[0m\n\u001b[0;32m----> 3\u001b[0;31m                     validation_data=(x_test, y_test), shuffle=True)\n\u001b[0m",
      "\u001b[0;32m/opt/anaconda3/lib/python3.7/site-packages/keras/engine/training.py\u001b[0m in \u001b[0;36mfit\u001b[0;34m(self, x, y, batch_size, epochs, verbose, callbacks, validation_split, validation_data, shuffle, class_weight, sample_weight, initial_epoch, steps_per_epoch, validation_steps, validation_freq, max_queue_size, workers, use_multiprocessing, **kwargs)\u001b[0m\n\u001b[1;32m   1237\u001b[0m                                         \u001b[0msteps_per_epoch\u001b[0m\u001b[0;34m=\u001b[0m\u001b[0msteps_per_epoch\u001b[0m\u001b[0;34m,\u001b[0m\u001b[0;34m\u001b[0m\u001b[0;34m\u001b[0m\u001b[0m\n\u001b[1;32m   1238\u001b[0m                                         \u001b[0mvalidation_steps\u001b[0m\u001b[0;34m=\u001b[0m\u001b[0mvalidation_steps\u001b[0m\u001b[0;34m,\u001b[0m\u001b[0;34m\u001b[0m\u001b[0;34m\u001b[0m\u001b[0m\n\u001b[0;32m-> 1239\u001b[0;31m                                         validation_freq=validation_freq)\n\u001b[0m\u001b[1;32m   1240\u001b[0m \u001b[0;34m\u001b[0m\u001b[0m\n\u001b[1;32m   1241\u001b[0m     def evaluate(self,\n",
      "\u001b[0;32m/opt/anaconda3/lib/python3.7/site-packages/keras/engine/training_arrays.py\u001b[0m in \u001b[0;36mfit_loop\u001b[0;34m(model, fit_function, fit_inputs, out_labels, batch_size, epochs, verbose, callbacks, val_function, val_inputs, shuffle, initial_epoch, steps_per_epoch, validation_steps, validation_freq)\u001b[0m\n\u001b[1;32m    194\u001b[0m                     \u001b[0mins_batch\u001b[0m\u001b[0;34m[\u001b[0m\u001b[0mi\u001b[0m\u001b[0;34m]\u001b[0m \u001b[0;34m=\u001b[0m \u001b[0mins_batch\u001b[0m\u001b[0;34m[\u001b[0m\u001b[0mi\u001b[0m\u001b[0;34m]\u001b[0m\u001b[0;34m.\u001b[0m\u001b[0mtoarray\u001b[0m\u001b[0;34m(\u001b[0m\u001b[0;34m)\u001b[0m\u001b[0;34m\u001b[0m\u001b[0;34m\u001b[0m\u001b[0m\n\u001b[1;32m    195\u001b[0m \u001b[0;34m\u001b[0m\u001b[0m\n\u001b[0;32m--> 196\u001b[0;31m                 \u001b[0mouts\u001b[0m \u001b[0;34m=\u001b[0m \u001b[0mfit_function\u001b[0m\u001b[0;34m(\u001b[0m\u001b[0mins_batch\u001b[0m\u001b[0;34m)\u001b[0m\u001b[0;34m\u001b[0m\u001b[0;34m\u001b[0m\u001b[0m\n\u001b[0m\u001b[1;32m    197\u001b[0m                 \u001b[0mouts\u001b[0m \u001b[0;34m=\u001b[0m \u001b[0mto_list\u001b[0m\u001b[0;34m(\u001b[0m\u001b[0mouts\u001b[0m\u001b[0;34m)\u001b[0m\u001b[0;34m\u001b[0m\u001b[0;34m\u001b[0m\u001b[0m\n\u001b[1;32m    198\u001b[0m                 \u001b[0;32mfor\u001b[0m \u001b[0ml\u001b[0m\u001b[0;34m,\u001b[0m \u001b[0mo\u001b[0m \u001b[0;32min\u001b[0m \u001b[0mzip\u001b[0m\u001b[0;34m(\u001b[0m\u001b[0mout_labels\u001b[0m\u001b[0;34m,\u001b[0m \u001b[0mouts\u001b[0m\u001b[0;34m)\u001b[0m\u001b[0;34m:\u001b[0m\u001b[0;34m\u001b[0m\u001b[0;34m\u001b[0m\u001b[0m\n",
      "\u001b[0;32m/opt/anaconda3/lib/python3.7/site-packages/tensorflow_core/python/keras/backend.py\u001b[0m in \u001b[0;36m__call__\u001b[0;34m(self, inputs)\u001b[0m\n\u001b[1;32m   3725\u001b[0m         \u001b[0mvalue\u001b[0m \u001b[0;34m=\u001b[0m \u001b[0mmath_ops\u001b[0m\u001b[0;34m.\u001b[0m\u001b[0mcast\u001b[0m\u001b[0;34m(\u001b[0m\u001b[0mvalue\u001b[0m\u001b[0;34m,\u001b[0m \u001b[0mtensor\u001b[0m\u001b[0;34m.\u001b[0m\u001b[0mdtype\u001b[0m\u001b[0;34m)\u001b[0m\u001b[0;34m\u001b[0m\u001b[0;34m\u001b[0m\u001b[0m\n\u001b[1;32m   3726\u001b[0m       \u001b[0mconverted_inputs\u001b[0m\u001b[0;34m.\u001b[0m\u001b[0mappend\u001b[0m\u001b[0;34m(\u001b[0m\u001b[0mvalue\u001b[0m\u001b[0;34m)\u001b[0m\u001b[0;34m\u001b[0m\u001b[0;34m\u001b[0m\u001b[0m\n\u001b[0;32m-> 3727\u001b[0;31m     \u001b[0moutputs\u001b[0m \u001b[0;34m=\u001b[0m \u001b[0mself\u001b[0m\u001b[0;34m.\u001b[0m\u001b[0m_graph_fn\u001b[0m\u001b[0;34m(\u001b[0m\u001b[0;34m*\u001b[0m\u001b[0mconverted_inputs\u001b[0m\u001b[0;34m)\u001b[0m\u001b[0;34m\u001b[0m\u001b[0;34m\u001b[0m\u001b[0m\n\u001b[0m\u001b[1;32m   3728\u001b[0m \u001b[0;34m\u001b[0m\u001b[0m\n\u001b[1;32m   3729\u001b[0m     \u001b[0;31m# EagerTensor.numpy() will often make a copy to ensure memory safety.\u001b[0m\u001b[0;34m\u001b[0m\u001b[0;34m\u001b[0m\u001b[0;34m\u001b[0m\u001b[0m\n",
      "\u001b[0;32m/opt/anaconda3/lib/python3.7/site-packages/tensorflow_core/python/eager/function.py\u001b[0m in \u001b[0;36m__call__\u001b[0;34m(self, *args, **kwargs)\u001b[0m\n\u001b[1;32m   1549\u001b[0m       \u001b[0mTypeError\u001b[0m\u001b[0;34m:\u001b[0m \u001b[0mFor\u001b[0m \u001b[0minvalid\u001b[0m \u001b[0mpositional\u001b[0m\u001b[0;34m/\u001b[0m\u001b[0mkeyword\u001b[0m \u001b[0margument\u001b[0m \u001b[0mcombinations\u001b[0m\u001b[0;34m.\u001b[0m\u001b[0;34m\u001b[0m\u001b[0;34m\u001b[0m\u001b[0m\n\u001b[1;32m   1550\u001b[0m     \"\"\"\n\u001b[0;32m-> 1551\u001b[0;31m     \u001b[0;32mreturn\u001b[0m \u001b[0mself\u001b[0m\u001b[0;34m.\u001b[0m\u001b[0m_call_impl\u001b[0m\u001b[0;34m(\u001b[0m\u001b[0margs\u001b[0m\u001b[0;34m,\u001b[0m \u001b[0mkwargs\u001b[0m\u001b[0;34m)\u001b[0m\u001b[0;34m\u001b[0m\u001b[0;34m\u001b[0m\u001b[0m\n\u001b[0m\u001b[1;32m   1552\u001b[0m \u001b[0;34m\u001b[0m\u001b[0m\n\u001b[1;32m   1553\u001b[0m   \u001b[0;32mdef\u001b[0m \u001b[0m_call_impl\u001b[0m\u001b[0;34m(\u001b[0m\u001b[0mself\u001b[0m\u001b[0;34m,\u001b[0m \u001b[0margs\u001b[0m\u001b[0;34m,\u001b[0m \u001b[0mkwargs\u001b[0m\u001b[0;34m,\u001b[0m \u001b[0mcancellation_manager\u001b[0m\u001b[0;34m=\u001b[0m\u001b[0;32mNone\u001b[0m\u001b[0;34m)\u001b[0m\u001b[0;34m:\u001b[0m\u001b[0;34m\u001b[0m\u001b[0;34m\u001b[0m\u001b[0m\n",
      "\u001b[0;32m/opt/anaconda3/lib/python3.7/site-packages/tensorflow_core/python/eager/function.py\u001b[0m in \u001b[0;36m_call_impl\u001b[0;34m(self, args, kwargs, cancellation_manager)\u001b[0m\n\u001b[1;32m   1589\u001b[0m       raise TypeError(\"Keyword arguments {} unknown. Expected {}.\".format(\n\u001b[1;32m   1590\u001b[0m           list(kwargs.keys()), list(self._arg_keywords)))\n\u001b[0;32m-> 1591\u001b[0;31m     \u001b[0;32mreturn\u001b[0m \u001b[0mself\u001b[0m\u001b[0;34m.\u001b[0m\u001b[0m_call_flat\u001b[0m\u001b[0;34m(\u001b[0m\u001b[0margs\u001b[0m\u001b[0;34m,\u001b[0m \u001b[0mself\u001b[0m\u001b[0;34m.\u001b[0m\u001b[0mcaptured_inputs\u001b[0m\u001b[0;34m,\u001b[0m \u001b[0mcancellation_manager\u001b[0m\u001b[0;34m)\u001b[0m\u001b[0;34m\u001b[0m\u001b[0;34m\u001b[0m\u001b[0m\n\u001b[0m\u001b[1;32m   1592\u001b[0m \u001b[0;34m\u001b[0m\u001b[0m\n\u001b[1;32m   1593\u001b[0m   \u001b[0;32mdef\u001b[0m \u001b[0m_filtered_call\u001b[0m\u001b[0;34m(\u001b[0m\u001b[0mself\u001b[0m\u001b[0;34m,\u001b[0m \u001b[0margs\u001b[0m\u001b[0;34m,\u001b[0m \u001b[0mkwargs\u001b[0m\u001b[0;34m)\u001b[0m\u001b[0;34m:\u001b[0m\u001b[0;34m\u001b[0m\u001b[0;34m\u001b[0m\u001b[0m\n",
      "\u001b[0;32m/opt/anaconda3/lib/python3.7/site-packages/tensorflow_core/python/eager/function.py\u001b[0m in \u001b[0;36m_call_flat\u001b[0;34m(self, args, captured_inputs, cancellation_manager)\u001b[0m\n\u001b[1;32m   1690\u001b[0m       \u001b[0;31m# No tape is watching; skip to running the function.\u001b[0m\u001b[0;34m\u001b[0m\u001b[0;34m\u001b[0m\u001b[0;34m\u001b[0m\u001b[0m\n\u001b[1;32m   1691\u001b[0m       return self._build_call_outputs(self._inference_function.call(\n\u001b[0;32m-> 1692\u001b[0;31m           ctx, args, cancellation_manager=cancellation_manager))\n\u001b[0m\u001b[1;32m   1693\u001b[0m     forward_backward = self._select_forward_and_backward_functions(\n\u001b[1;32m   1694\u001b[0m         \u001b[0margs\u001b[0m\u001b[0;34m,\u001b[0m\u001b[0;34m\u001b[0m\u001b[0;34m\u001b[0m\u001b[0m\n",
      "\u001b[0;32m/opt/anaconda3/lib/python3.7/site-packages/tensorflow_core/python/eager/function.py\u001b[0m in \u001b[0;36mcall\u001b[0;34m(self, ctx, args, cancellation_manager)\u001b[0m\n\u001b[1;32m    543\u001b[0m               \u001b[0minputs\u001b[0m\u001b[0;34m=\u001b[0m\u001b[0margs\u001b[0m\u001b[0;34m,\u001b[0m\u001b[0;34m\u001b[0m\u001b[0;34m\u001b[0m\u001b[0m\n\u001b[1;32m    544\u001b[0m               \u001b[0mattrs\u001b[0m\u001b[0;34m=\u001b[0m\u001b[0;34m(\u001b[0m\u001b[0;34m\"executor_type\"\u001b[0m\u001b[0;34m,\u001b[0m \u001b[0mexecutor_type\u001b[0m\u001b[0;34m,\u001b[0m \u001b[0;34m\"config_proto\"\u001b[0m\u001b[0;34m,\u001b[0m \u001b[0mconfig\u001b[0m\u001b[0;34m)\u001b[0m\u001b[0;34m,\u001b[0m\u001b[0;34m\u001b[0m\u001b[0;34m\u001b[0m\u001b[0m\n\u001b[0;32m--> 545\u001b[0;31m               ctx=ctx)\n\u001b[0m\u001b[1;32m    546\u001b[0m         \u001b[0;32melse\u001b[0m\u001b[0;34m:\u001b[0m\u001b[0;34m\u001b[0m\u001b[0;34m\u001b[0m\u001b[0m\n\u001b[1;32m    547\u001b[0m           outputs = execute.execute_with_cancellation(\n",
      "\u001b[0;32m/opt/anaconda3/lib/python3.7/site-packages/tensorflow_core/python/eager/execute.py\u001b[0m in \u001b[0;36mquick_execute\u001b[0;34m(op_name, num_outputs, inputs, attrs, ctx, name)\u001b[0m\n\u001b[1;32m     59\u001b[0m     tensors = pywrap_tensorflow.TFE_Py_Execute(ctx._handle, device_name,\n\u001b[1;32m     60\u001b[0m                                                \u001b[0mop_name\u001b[0m\u001b[0;34m,\u001b[0m \u001b[0minputs\u001b[0m\u001b[0;34m,\u001b[0m \u001b[0mattrs\u001b[0m\u001b[0;34m,\u001b[0m\u001b[0;34m\u001b[0m\u001b[0;34m\u001b[0m\u001b[0m\n\u001b[0;32m---> 61\u001b[0;31m                                                num_outputs)\n\u001b[0m\u001b[1;32m     62\u001b[0m   \u001b[0;32mexcept\u001b[0m \u001b[0mcore\u001b[0m\u001b[0;34m.\u001b[0m\u001b[0m_NotOkStatusException\u001b[0m \u001b[0;32mas\u001b[0m \u001b[0me\u001b[0m\u001b[0;34m:\u001b[0m\u001b[0;34m\u001b[0m\u001b[0;34m\u001b[0m\u001b[0m\n\u001b[1;32m     63\u001b[0m     \u001b[0;32mif\u001b[0m \u001b[0mname\u001b[0m \u001b[0;32mis\u001b[0m \u001b[0;32mnot\u001b[0m \u001b[0;32mNone\u001b[0m\u001b[0;34m:\u001b[0m\u001b[0;34m\u001b[0m\u001b[0;34m\u001b[0m\u001b[0m\n",
      "\u001b[0;31mKeyboardInterrupt\u001b[0m: "
     ]
    }
   ],
   "source": [
    "cnn = cnn_n.fit(x_train, y_train, batch_size=batch_size, \n",
    "                epochs=epochs, \n",
    "                    validation_data=(X_val, y_val), shuffle=True)"
   ]
  },
  {
   "cell_type": "code",
   "execution_count": null,
   "metadata": {},
   "outputs": [],
   "source": [
    "# Vizualizing model structure\n",
    "sequential_model_to_ascii_printout(cnn_n)"
   ]
  }
 ],
 "metadata": {
  "kernelspec": {
   "display_name": "Python 3",
   "language": "python",
   "name": "python3"
  },
  "language_info": {
   "codemirror_mode": {
    "name": "ipython",
    "version": 3
   },
   "file_extension": ".py",
   "mimetype": "text/x-python",
   "name": "python",
   "nbconvert_exporter": "python",
   "pygments_lexer": "ipython3",
   "version": "3.7.7"
  }
 },
 "nbformat": 4,
 "nbformat_minor": 2
}
